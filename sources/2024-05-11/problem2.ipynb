{
 "cells": [
  {
   "cell_type": "code",
   "execution_count": 7,
   "metadata": {},
   "outputs": [
    {
     "name": "stdout",
     "output_type": "stream",
     "text": [
      "Step -> k: 0, i: 1, L: -0.5\n",
      "[[-2.      1.      0.      0.125 ]\n",
      " [ 0.     -1.5     1.      0.1875]\n",
      " [ 0.      1.     -2.     -0.875 ]]\n",
      "Step -> k: 0, i: 2, L: -0.0\n",
      "[[-2.      1.      0.      0.125 ]\n",
      " [ 0.     -1.5     1.      0.1875]\n",
      " [ 0.      1.     -2.     -0.875 ]]\n",
      "Step -> k: 1, i: 2, L: -0.6666666666666666\n",
      "[[-2.          1.          0.          0.125     ]\n",
      " [ 0.         -1.5         1.          0.1875    ]\n",
      " [ 0.          0.         -1.33333333 -0.75      ]]\n",
      "-2.0 * y0 + 1.0 * y1 + 0.0 * y2 + = 0.125\n",
      "0.0 * y0 + -1.5 * y1 + 1.0 * y2 + = 0.1875\n",
      "0.0 * y0 + 0.0 * y1 + -1.3333333333333335 * y2 + = -0.75\n"
     ]
    }
   ],
   "source": [
    "import numpy as np \n",
    "\n",
    "\n",
    "h = 0.25\n",
    "A = np.array([[-2, 1, 0, 2 * (h**2)],\n",
    "           [1, -2, 1, 2 * (h**2)],\n",
    "           [0, 1, -2, (2 * (h**2) - 1)]])\n",
    "\n",
    "n = 3\n",
    "m = 4\n",
    "\n",
    "for k in range(0, n-1):\n",
    "    for i in range(k+1, n):\n",
    "        L = A[i][k] / A[k][k]\n",
    "\n",
    "        for j in range(k, m):\n",
    "            A[i][j] = A[i][j] - L * A[k][j]\n",
    "\n",
    "        print(f\"Step -> k: {k}, i: {i}, L: {L}\")\n",
    "        print(A)\n",
    "\n",
    "\n",
    "\n",
    "for i in range(0, n):\n",
    "    for j in range(0, m):\n",
    "        if j < m-1:\n",
    "            exp = f\"{A[i][j]} * y{j} + \"\n",
    "            if j == m-1: exp = exp[:-2]\n",
    "            print(exp, end=\"\")\n",
    "        else:\n",
    "            print(f\"= {A[i][j]}\")\n",
    "\n",
    "\n"
   ]
  },
  {
   "cell_type": "code",
   "execution_count": null,
   "metadata": {},
   "outputs": [],
   "source": []
  }
 ],
 "metadata": {
  "kernelspec": {
   "display_name": "Python 3",
   "language": "python",
   "name": "python3"
  },
  "language_info": {
   "codemirror_mode": {
    "name": "ipython",
    "version": 3
   },
   "file_extension": ".py",
   "mimetype": "text/x-python",
   "name": "python",
   "nbconvert_exporter": "python",
   "pygments_lexer": "ipython3",
   "version": "3.10.12"
  }
 },
 "nbformat": 4,
 "nbformat_minor": 2
}
