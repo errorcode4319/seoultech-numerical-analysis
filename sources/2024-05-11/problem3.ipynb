{
 "cells": [
  {
   "cell_type": "code",
   "execution_count": 13,
   "metadata": {},
   "outputs": [
    {
     "name": "stdout",
     "output_type": "stream",
     "text": [
      "U matrix\n",
      "[[-2.          1.          0.        ]\n",
      " [ 0.         -1.5         1.        ]\n",
      " [ 0.          0.         -1.33333333]]\n",
      "L matrix\n",
      "[[ 1.          0.          0.        ]\n",
      " [-0.5         1.          0.        ]\n",
      " [-0.         -0.66666667  1.        ]]\n",
      "A matrix (=LU)\n",
      "[[-2  1  0]\n",
      " [ 1 -2  1]\n",
      " [ 0  1 -2]]\n",
      "LU\n",
      "[[-2.  1.  0.]\n",
      " [ 1. -2.  1.]\n",
      " [ 0.  1. -2.]]\n"
     ]
    }
   ],
   "source": [
    "import numpy as np \n",
    "\n",
    "\n",
    "n = 3\n",
    "h = 0.25\n",
    "A = np.array([[-2, 1, 0],\n",
    "              [1, -2, 1],\n",
    "              [0, 1, -2]])\n",
    "U = np.zeros((n, n), dtype=float)\n",
    "\n",
    "U[0] = A[0]\n",
    "\n",
    "L = np.eye(n, dtype=float)\n",
    "\n",
    "for k in range(0, n-1):\n",
    "    for i in range(k+1, n):\n",
    "        l = A[i][k] / U[k][k]\n",
    "        L[i][k] = l\n",
    "\n",
    "        for j in range(k, n):\n",
    "            U[i][j] = A[i][j] - l * U[k][j]\n",
    "\n",
    "print(\"U matrix\")\n",
    "print(U)\n",
    "print(\"L matrix\")\n",
    "print(L)\n",
    "\n",
    "print(\"A matrix (=LU)\")\n",
    "print(A)\n",
    "print(\"LU\")\n",
    "print(np.matmul(L, U))\n"
   ]
  },
  {
   "cell_type": "code",
   "execution_count": null,
   "metadata": {},
   "outputs": [],
   "source": []
  }
 ],
 "metadata": {
  "kernelspec": {
   "display_name": "Python 3",
   "language": "python",
   "name": "python3"
  },
  "language_info": {
   "codemirror_mode": {
    "name": "ipython",
    "version": 3
   },
   "file_extension": ".py",
   "mimetype": "text/x-python",
   "name": "python",
   "nbconvert_exporter": "python",
   "pygments_lexer": "ipython3",
   "version": "3.10.12"
  }
 },
 "nbformat": 4,
 "nbformat_minor": 2
}
