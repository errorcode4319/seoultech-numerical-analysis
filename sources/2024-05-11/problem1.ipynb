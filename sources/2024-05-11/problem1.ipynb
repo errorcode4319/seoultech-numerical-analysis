{
 "cells": [
  {
   "cell_type": "code",
   "execution_count": 11,
   "metadata": {},
   "outputs": [
    {
     "name": "stdout",
     "output_type": "stream",
     "text": [
      "[[0.0625]\n",
      " [0.25  ]\n",
      " [0.5625]]\n"
     ]
    }
   ],
   "source": [
    "import numpy as np\n",
    "\n",
    "A = np.array([[-2, 1, 0],\n",
    "              [1, -2, 1],\n",
    "              [0, 1, -2]])\n",
    "\n",
    "invA = np.linalg.inv(A)\n",
    "h = 0.25\n",
    "b = np.array([[2*(h**2), 2*(h**2), 2*(h**2) - 1]]).T \n",
    "x = np.matmul(invA, b)\n",
    "print(x)"
   ]
  },
  {
   "cell_type": "code",
   "execution_count": 9,
   "metadata": {},
   "outputs": [
    {
     "name": "stdout",
     "output_type": "stream",
     "text": [
      "[[ 0.125]\n",
      " [ 0.125]\n",
      " [-0.875]]\n",
      "success\n"
     ]
    }
   ],
   "source": [
    "b_2 = np.matmul(A, x)\n",
    "\n",
    "print(b_2)\n",
    "\n",
    "if b.all() == b_2.all():\n",
    "    print(\"success\")\n",
    "else:\n",
    "    print(\"failed\")"
   ]
  },
  {
   "cell_type": "code",
   "execution_count": null,
   "metadata": {},
   "outputs": [],
   "source": []
  }
 ],
 "metadata": {
  "kernelspec": {
   "display_name": "Python 3",
   "language": "python",
   "name": "python3"
  },
  "language_info": {
   "codemirror_mode": {
    "name": "ipython",
    "version": 3
   },
   "file_extension": ".py",
   "mimetype": "text/x-python",
   "name": "python",
   "nbconvert_exporter": "python",
   "pygments_lexer": "ipython3",
   "version": "3.10.12"
  }
 },
 "nbformat": 4,
 "nbformat_minor": 2
}
