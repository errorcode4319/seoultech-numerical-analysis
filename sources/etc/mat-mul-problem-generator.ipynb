{
 "cells": [
  {
   "cell_type": "code",
   "execution_count": 38,
   "metadata": {},
   "outputs": [
    {
     "name": "stdout",
     "output_type": "stream",
     "text": [
      "\\begin{bmatrix}\n",
      "  6 & -7\\\\\n",
      "  0 & -6\\\\\n",
      "  3 & 5\\\\\n",
      "\\end{bmatrix}\n",
      "\\times\n",
      "\\begin{bmatrix}\n",
      "  -10 & 4 & -10\\\\\n",
      "  -9 & -7 & 5\\\\\n",
      "\\end{bmatrix}\n",
      "=\n",
      "\\begin{bmatrix}\n",
      "  3 & 73 & -95\\\\\n",
      "  54 & 42 & -30\\\\\n",
      "  -75 & -23 & -5\\\\\n",
      "\\end{bmatrix}\n"
     ]
    }
   ],
   "source": [
    "import numpy as np\n",
    "from random import randrange  \n",
    "\n",
    "PRINT_LATEX_FORMAT = True \n",
    "\n",
    "def gen_random_problem(mat_size_range=(2, 4), elem_value_range=(-10, 10)):\n",
    "    \n",
    "    N = randrange(*mat_size_range)\n",
    "    K = randrange(*mat_size_range)\n",
    "    M = randrange(*mat_size_range)\n",
    "\n",
    "    mat1_size = (N, K)\n",
    "    mat2_size = (K, M)\n",
    "\n",
    "    val_min, val_max = elem_value_range\n",
    "    mat1 = np.random.randint(val_min, val_max, mat1_size)\n",
    "    mat2 = np.random.randint(val_min, val_max, mat2_size)\n",
    "\n",
    "    result = mat1 @ mat2 \n",
    "\n",
    "    return mat1, mat2, result\n",
    "\n",
    "\n",
    "def bmatrix(a):\n",
    "    \"\"\"Returns a LaTeX bmatrix\n",
    "\n",
    "    :a: numpy array\n",
    "    :returns: LaTeX bmatrix as a string\n",
    "    \"\"\"\n",
    "    if len(a.shape) > 2:\n",
    "        raise ValueError('bmatrix can at most display two dimensions')\n",
    "    lines = str(a).replace('[', '').replace(']', '').splitlines()\n",
    "    rv = [r'\\begin{bmatrix}']\n",
    "    rv += ['  ' + ' & '.join(l.split()) + r'\\\\' for l in lines]\n",
    "    rv +=  [r'\\end{bmatrix}']\n",
    "    return '\\n'.join(rv)\n",
    "\n",
    "\n",
    "A, B, C = gen_random_problem(mat_size_range=(2, 4))\n",
    "\n",
    "if PRINT_LATEX_FORMAT:\n",
    "    print(bmatrix(A))\n",
    "    print('\\\\times')\n",
    "    print(bmatrix(B))\n",
    "    print('=')\n",
    "    print(bmatrix(C))\n",
    "\n",
    "    # Latex 코드 렌더링 => https://editor.codecogs.com/\n",
    "else:\n",
    "    print(\"A =\\n\", A)\n",
    "    print(\"B =\\n\", B)\n",
    "    print(\"A x B = \\n\", C)"
   ]
  },
  {
   "cell_type": "code",
   "execution_count": null,
   "metadata": {},
   "outputs": [],
   "source": []
  }
 ],
 "metadata": {
  "kernelspec": {
   "display_name": "Python 3",
   "language": "python",
   "name": "python3"
  },
  "language_info": {
   "codemirror_mode": {
    "name": "ipython",
    "version": 3
   },
   "file_extension": ".py",
   "mimetype": "text/x-python",
   "name": "python",
   "nbconvert_exporter": "python",
   "pygments_lexer": "ipython3",
   "version": "3.10.12"
  }
 },
 "nbformat": 4,
 "nbformat_minor": 2
}
